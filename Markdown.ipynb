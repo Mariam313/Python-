{
 "cells": [
  {
   "cell_type": "markdown",
   "metadata": {},
   "source": [
    "### <p style='text-align: center;'> Markdown  ###\n",
    "   \n",
    "    \n",
    "    \n",
    "Markdonw is converted to **HTML** so same formating \n",
    "\n",
    "\n",
    "\n"
   ]
  },
  {
   "cell_type": "markdown",
   "metadata": {},
   "source": [
    "_ underscore for itealic _this is italic_"
   ]
  },
  {
   "cell_type": "markdown",
   "metadata": {},
   "source": [
    "There are two ways to **bold text**, either useing ** without space or using < b> "
   ]
  },
  {
   "cell_type": "markdown",
   "metadata": {},
   "source": [
    "**this is bold**"
   ]
  },
  {
   "cell_type": "markdown",
   "metadata": {},
   "source": [
    "<b> this text is also bold but I used < b> before and </ b> at the end </b> "
   ]
  },
  {
   "cell_type": "markdown",
   "metadata": {},
   "source": [
    "**_bold and italic_** using _ and **"
   ]
  },
  {
   "cell_type": "markdown",
   "metadata": {},
   "source": [
    "< u> to under line a text <u>underlined</u>"
   ]
  },
  {
   "cell_type": "markdown",
   "metadata": {},
   "source": [
    "***"
   ]
  },
  {
   "cell_type": "markdown",
   "metadata": {},
   "source": [
    "<u> Soft brakes: </u> two spaces \n",
    "\n",
    "<u>Hard breakes:</u> for paraghraphs, new line and space\n",
    "\n",
    "To start a new line, hit space two times and to skip a line, leave a line empty \n",
    "\n",
    "like this"
   ]
  },
  {
   "cell_type": "markdown",
   "metadata": {},
   "source": [
    "1\n",
    "\n",
    "2\n",
    "\n",
    "3"
   ]
  },
  {
   "cell_type": "markdown",
   "metadata": {},
   "source": [
    "1  \n",
    "2  \n",
    "3  "
   ]
  },
  {
   "cell_type": "markdown",
   "metadata": {},
   "source": [
    "# H1#"
   ]
  },
  {
   "cell_type": "markdown",
   "metadata": {},
   "source": [
    "## H2##"
   ]
  },
  {
   "cell_type": "markdown",
   "metadata": {},
   "source": [
    "### H3 header###"
   ]
  },
  {
   "cell_type": "markdown",
   "metadata": {},
   "source": [
    "#### H4 header ###"
   ]
  },
  {
   "cell_type": "markdown",
   "metadata": {},
   "source": [
    "##### H5 header#####"
   ]
  },
  {
   "cell_type": "markdown",
   "metadata": {},
   "source": [
    "###### H6 header ######"
   ]
  },
  {
   "cell_type": "markdown",
   "metadata": {},
   "source": [
    "Now let's insert a link"
   ]
  },
  {
   "cell_type": "markdown",
   "metadata": {},
   "source": [
    "[This link is to BAIR ](https://bair.berkeley.edu/blog/)"
   ]
  },
  {
   "cell_type": "markdown",
   "metadata": {},
   "source": [
    "#### Two options for inserting an image ####\n",
    "1: \n",
    "\\![Text about the image ](image address)\n",
    "\n",
    "or \n",
    "2: \\ < img src= \"image address\" width=\" \" height=\" \" >"
   ]
  },
  {
   "cell_type": "markdown",
   "metadata": {},
   "source": [
    "<img src= \"https://img.freepik.com/free-vector/hand-drawn-cartoon-brain-illustration_23-2150556257.jpg?w=740&t=st=1711732566~exp=1711733166~hmac=ff6e7150d1751b796c7d7ecab9f3b054ef8c4654894842cdc78af653f019c2c3\" width =\"100\" height =\"50\">"
   ]
  },
  {
   "cell_type": "markdown",
   "metadata": {},
   "source": [
    "To include block quote, use > sign before the text\n",
    "\n"
   ]
  },
  {
   "cell_type": "markdown",
   "metadata": {},
   "source": [
    "> Forgiving others brings greater benefit to the forgiver. Living in peace is worth it. But forgiving doesn't mean give them chance to repeat what they have done. You can enjoy removing them from your life. **Mariuma**"
   ]
  },
  {
   "cell_type": "markdown",
   "metadata": {},
   "source": [
    "Numbered list\n",
    "\n",
    "1. item 1\n",
    "1. item two still types 1 \n",
    "1. item 3 also used 1"
   ]
  },
  {
   "cell_type": "markdown",
   "metadata": {},
   "source": [
    "Bullet points, just use  * after space  \n",
    "note, \\* withoutspae itilizes text \n",
    "so do use space after  \\*\n",
    "* item\n",
    "* item\n",
    "* item"
   ]
  },
  {
   "cell_type": "markdown",
   "metadata": {},
   "source": [
    "Nested list:\n",
    "\n",
    "* item 1\n",
    "    1. subitem \n",
    "    1. sub item \n",
    "    1. subitem \n",
    "        * lower\n",
    "* item 2 \n",
    "    1. sub "
   ]
  },
  {
   "cell_type": "markdown",
   "metadata": {},
   "source": [
    "#### Changing colors####\n",
    "\n",
    "\n"
   ]
  },
  {
   "cell_type": "markdown",
   "metadata": {},
   "source": [
    "1. Using **span** \n",
    "\n",
    "/< span style='color:red'> text"
   ]
  },
  {
   "cell_type": "markdown",
   "metadata": {},
   "source": [
    "Red color <span style='color:red'> this should appear red"
   ]
  },
  {
   "cell_type": "markdown",
   "metadata": {},
   "source": [
    "blue color <span style='color:blue'> This will be blue"
   ]
  },
  {
   "cell_type": "markdown",
   "metadata": {},
   "source": [
    "Green color <span style='color:green'> This will be green :)"
   ]
  },
  {
   "cell_type": "markdown",
   "metadata": {},
   "source": [
    "Pink color <span style='color:pink'> Girls love pink :D"
   ]
  },
  {
   "cell_type": "markdown",
   "metadata": {},
   "source": [
    "Yello color <span style=\"color:yellow\"> who loves yellow?"
   ]
  },
  {
   "cell_type": "markdown",
   "metadata": {},
   "source": [
    "Purpole color <span style='color:purple'> I'm doing this to remember how to change color\n"
   ]
  },
  {
   "cell_type": "markdown",
   "metadata": {},
   "source": [
    "Again, it's \n",
    "/ < span style=\"color:blue\"> "
   ]
  },
  {
   "cell_type": "markdown",
   "metadata": {},
   "source": [
    "***"
   ]
  },
  {
   "cell_type": "markdown",
   "metadata": {},
   "source": [
    "<h5> Blockquote </h5>\n",
    "\n",
    "use \\>"
   ]
  },
  {
   "cell_type": "markdown",
   "metadata": {},
   "source": [
    "> Type a qoute"
   ]
  },
  {
   "cell_type": "markdown",
   "metadata": {},
   "source": [
    "nested blockquote, use two \\>>"
   ]
  },
  {
   "cell_type": "markdown",
   "metadata": {},
   "source": [
    ">> qoute"
   ]
  },
  {
   "cell_type": "markdown",
   "metadata": {},
   "source": [
    "#### Font ####"
   ]
  },
  {
   "cell_type": "markdown",
   "metadata": {},
   "source": [
    "< span style=\"font-family: verdana\"> text  </ span>"
   ]
  },
  {
   "cell_type": "markdown",
   "metadata": {},
   "source": [
    "Times new roman: <span style='font-family: Times New Roman'> Times new roman! keep writing then use span to stwich back. </span> Do you see the difference\n",
    "    \n",
    "    Interesting\n",
    "    </span> told it when to stop or hitting enter \n",
    "    The rest of text "
   ]
  },
  {
   "cell_type": "markdown",
   "metadata": {},
   "source": [
    "#### Highlighting text ####"
   ]
  },
  {
   "cell_type": "markdown",
   "metadata": {},
   "source": [
    "use < div class= \"alert alert-block alert-{success, warning, or danger, info}> text \n",
    "    then close with </ div> "
   ]
  },
  {
   "cell_type": "markdown",
   "metadata": {},
   "source": [
    "\n",
    "\n",
    "<div class=\"alert alert-block alert-success\">Success is green, warning is yellow</div>"
   ]
  },
  {
   "cell_type": "markdown",
   "metadata": {},
   "source": [
    "<div class='alter alert-block alert-danger'>  Success: This text will be highlighted red becuase after alert we put danger .\n",
    "    </div>"
   ]
  },
  {
   "cell_type": "markdown",
   "metadata": {},
   "source": [
    "<div class='alter alert-block alert-warning'> <b> Success</b>: This text will be highlighted.</div>"
   ]
  },
  {
   "cell_type": "markdown",
   "metadata": {},
   "source": [
    "<div class='alert alert block alert-info'> This block will be blue because I used alert-<b>info</b> \n",
    "</div>"
   ]
  },
  {
   "cell_type": "markdown",
   "metadata": {},
   "source": [
    "#### text Alignment #### "
   ]
  },
  {
   "cell_type": "markdown",
   "metadata": {},
   "source": [
    "< p style= ' text-align: center;'> **text** </ p>\n",
    "\n",
    "or \n",
    "\n",
    "< h1 style= ' text-align: center;'> **text** </ h1>\n",
    "or\n",
    "\n",
    "< div style= ' text-align: center'> <  h1> **text** < h1> </ div>"
   ]
  },
  {
   "cell_type": "markdown",
   "metadata": {},
   "source": [
    "<p style='text-align: center;'> Center </p>"
   ]
  },
  {
   "cell_type": "markdown",
   "metadata": {},
   "source": [
    "<p style='text-align: right;'> Right alignment "
   ]
  },
  {
   "cell_type": "markdown",
   "metadata": {},
   "source": [
    "Here's an easy way to combine alignment and heading\n",
    "\n",
    "< h1 style='text-align: center';> text </ h1 > \n",
    "\n",
    "<h1 style='text-align: center';> Centered text as a page heading 1 </h1>"
   ]
  },
  {
   "cell_type": "markdown",
   "metadata": {},
   "source": [
    "<h4 style='text-align: center';> Centered text as a page heading4 </h4>"
   ]
  },
  {
   "cell_type": "markdown",
   "metadata": {},
   "source": [
    "<div style='text-align:center'> <h4> This is using div for division and h4 <h4> </div>"
   ]
  },
  {
   "cell_type": "code",
   "execution_count": null,
   "metadata": {},
   "outputs": [],
   "source": []
  }
 ],
 "metadata": {
  "kernelspec": {
   "display_name": "Python 3",
   "language": "python",
   "name": "python3"
  },
  "language_info": {
   "codemirror_mode": {
    "name": "ipython",
    "version": 3
   },
   "file_extension": ".py",
   "mimetype": "text/x-python",
   "name": "python",
   "nbconvert_exporter": "python",
   "pygments_lexer": "ipython3",
   "version": "3.7.4"
  }
 },
 "nbformat": 4,
 "nbformat_minor": 2
}
